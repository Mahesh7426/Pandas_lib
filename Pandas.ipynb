{
  "metadata": {
    "language_info": {
      "codemirror_mode": {
        "name": "python",
        "version": 3
      },
      "file_extension": ".py",
      "mimetype": "text/x-python",
      "name": "python",
      "nbconvert_exporter": "python",
      "pygments_lexer": "ipython3",
      "version": "3.8"
    },
    "kernelspec": {
      "name": "python",
      "display_name": "Python (Pyodide)",
      "language": "python"
    },
    "toc-autonumbering": false,
    "toc-showcode": true,
    "toc-showmarkdowntxt": true
  },
  "nbformat_minor": 4,
  "nbformat": 4,
  "cells": [
    {
      "cell_type": "code",
      "source": "import pandas as pd",
      "metadata": {},
      "execution_count": null,
      "outputs": []
    },
    {
      "cell_type": "code",
      "source": "\ncustom = pd.DataFrame(\n    {\n        \"Name\": [\n            \"Braund, Mr. Owen Harris\",\n            \"Allen, Mr. William Henry\",\n            \"Bonnell, Miss. Elizabeth\",\n        ],\n        \"Age\": [22, 35, 58],\n        \"Sex\": [\"male\", \"male\", \"female\"],\n    }\n)\n\ncustom\n",
      "metadata": {
        "trusted": true
      },
      "execution_count": 11,
      "outputs": [
        {
          "execution_count": 11,
          "output_type": "execute_result",
          "data": {
            "text/plain": "                       Name  Age     Sex\n0   Braund, Mr. Owen Harris   22    male\n1  Allen, Mr. William Henry   35    male\n2  Bonnell, Miss. Elizabeth   58  female",
            "text/html": "<div>\n<style scoped>\n    .dataframe tbody tr th:only-of-type {\n        vertical-align: middle;\n    }\n\n    .dataframe tbody tr th {\n        vertical-align: top;\n    }\n\n    .dataframe thead th {\n        text-align: right;\n    }\n</style>\n<table border=\"1\" class=\"dataframe\">\n  <thead>\n    <tr style=\"text-align: right;\">\n      <th></th>\n      <th>Name</th>\n      <th>Age</th>\n      <th>Sex</th>\n    </tr>\n  </thead>\n  <tbody>\n    <tr>\n      <th>0</th>\n      <td>Braund, Mr. Owen Harris</td>\n      <td>22</td>\n      <td>male</td>\n    </tr>\n    <tr>\n      <th>1</th>\n      <td>Allen, Mr. William Henry</td>\n      <td>35</td>\n      <td>male</td>\n    </tr>\n    <tr>\n      <th>2</th>\n      <td>Bonnell, Miss. Elizabeth</td>\n      <td>58</td>\n      <td>female</td>\n    </tr>\n  </tbody>\n</table>\n</div>"
          },
          "metadata": {}
        }
      ]
    },
    {
      "cell_type": "code",
      "source": "df.describe()",
      "metadata": {
        "trusted": true
      },
      "execution_count": 9,
      "outputs": [
        {
          "execution_count": 9,
          "output_type": "execute_result",
          "data": {
            "text/plain": "             Age\ncount   3.000000\nmean   38.333333\nstd    18.230012\nmin    22.000000\n25%    28.500000\n50%    35.000000\n75%    46.500000\nmax    58.000000",
            "text/html": "<div>\n<style scoped>\n    .dataframe tbody tr th:only-of-type {\n        vertical-align: middle;\n    }\n\n    .dataframe tbody tr th {\n        vertical-align: top;\n    }\n\n    .dataframe thead th {\n        text-align: right;\n    }\n</style>\n<table border=\"1\" class=\"dataframe\">\n  <thead>\n    <tr style=\"text-align: right;\">\n      <th></th>\n      <th>Age</th>\n    </tr>\n  </thead>\n  <tbody>\n    <tr>\n      <th>count</th>\n      <td>3.000000</td>\n    </tr>\n    <tr>\n      <th>mean</th>\n      <td>38.333333</td>\n    </tr>\n    <tr>\n      <th>std</th>\n      <td>18.230012</td>\n    </tr>\n    <tr>\n      <th>min</th>\n      <td>22.000000</td>\n    </tr>\n    <tr>\n      <th>25%</th>\n      <td>28.500000</td>\n    </tr>\n    <tr>\n      <th>50%</th>\n      <td>35.000000</td>\n    </tr>\n    <tr>\n      <th>75%</th>\n      <td>46.500000</td>\n    </tr>\n    <tr>\n      <th>max</th>\n      <td>58.000000</td>\n    </tr>\n  </tbody>\n</table>\n</div>"
          },
          "metadata": {}
        }
      ]
    },
    {
      "cell_type": "code",
      "source": "#Create a series\nages = pd.Series([22, 35, 58], name=\"Age\")\nages",
      "metadata": {
        "trusted": true
      },
      "execution_count": 6,
      "outputs": [
        {
          "execution_count": 6,
          "output_type": "execute_result",
          "data": {
            "text/plain": "0    22\n1    35\n2    58\nName: Age, dtype: int64"
          },
          "metadata": {}
        }
      ]
    },
    {
      "cell_type": "code",
      "source": "df[\"Age\"].max()\nages.max()",
      "metadata": {
        "trusted": true
      },
      "execution_count": 7,
      "outputs": [
        {
          "execution_count": 7,
          "output_type": "execute_result",
          "data": {
            "text/plain": "58"
          },
          "metadata": {}
        }
      ]
    },
    {
      "cell_type": "code",
      "source": "titanic = pd.read_csv(\"historical_charges_details.csv\")\n\ntitanic",
      "metadata": {
        "trusted": true
      },
      "execution_count": 39,
      "outputs": [
        {
          "execution_count": 39,
          "output_type": "execute_result",
          "data": {
            "text/plain": "               Customer Name         Job ID Invoice Date    Due Date  \\\n0   Mahesh Goud Thorupunoori  JB-2102067-00   03/06/2022  04/05/2022   \n1   Mahesh Goud Thorupunoori  JB-2102067-00   02/06/2022  03/05/2022   \n2   Mahesh Goud Thorupunoori  JB-2102067-00   01/06/2022  02/05/2022   \n3   Mahesh Goud Thorupunoori  JB-2102067-00   12/06/2021  01/05/2022   \n4   Mahesh Goud Thorupunoori  JB-2102067-00   11/06/2021  12/05/2021   \n5   Mahesh Goud Thorupunoori  JB-2102067-00   10/06/2021  11/05/2021   \n6   Mahesh Goud Thorupunoori  JB-2102067-00   09/06/2021  10/05/2021   \n7   Mahesh Goud Thorupunoori  JB-2102067-00   08/06/2021  09/05/2021   \n8   Mahesh Goud Thorupunoori  JB-2102067-00   07/06/2021  08/05/2021   \n9   Mahesh Goud Thorupunoori  JB-2102067-00   06/06/2021  07/05/2021   \n10  Mahesh Goud Thorupunoori  JB-2102067-00   05/06/2021  06/05/2021   \n11  Mahesh Goud Thorupunoori  JB-2102067-00   04/11/2021  05/05/2021   \n12  Mahesh Goud Thorupunoori  JB-2102067-00   03/03/2021  04/10/2021   \n13  Mahesh Goud Thorupunoori  JB-2102067-00   02/03/2021  03/01/2021   \n\n   Previous Balance     Payments Previous Unpaid Balance Current Charges  \\\n0        $32.980000   $32.980000               $0.000000      $49.480000   \n1        $33.410000   $33.410000               $0.000000      $32.980000   \n2        $46.490000   $46.490000               $0.000000      $33.410000   \n3        $48.680000   $48.680000               $0.000000      $46.490000   \n4        $52.710000   $52.710000               $0.000000      $48.680000   \n5         $0.000000    $0.000000               $0.000000      $68.940000   \n6         $0.000000    $0.000000               $0.000000      $75.450000   \n7        $90.910000   $90.910000               $0.000000       $0.000000   \n8        $31.870000   $31.870000               $0.000000      $90.910000   \n9        $20.640000   $20.640000               $0.000000      $31.870000   \n10       $71.110000   $71.110000               $0.000000      $20.640000   \n11      $178.520000  $178.520000               $0.000000      $71.110000   \n12      $140.480000           $0             $140.480000      $38.040000   \n13               $0           $0                      $0     $140.480000   \n\n        kWh  kWh Rate Non-ACH AutoPay Adjustment        Tax Total Amount due  \n0    389.58    0.1270                  $0.000000  $0.000000       $49.480000  \n1    259.66    0.1270                  $0.000000  $0.000000       $32.980000  \n2    263.10    0.1270                  $0.000000  $0.000000       $33.410000  \n3    376.76    0.1234                  $0.000000  $0.000000       $46.490000  \n4    394.47    0.1234                  $0.000000  $0.000000       $48.680000  \n5    558.71    0.1234                  $0.000000  $0.000000       $52.710000  \n6    611.44    0.1234                  $0.000000  $0.000000        $0.000000  \n7   -742.96    0.1234                  $0.000000  $0.000000        $0.000000  \n8    736.72    0.1234                  $0.000000  $0.000000       $90.910000  \n9    258.25    0.1234                  $0.000000  $0.000000       $31.870000  \n10   167.23    0.1234                  $0.000000  $0.000000       $20.640000  \n11   576.28    0.1234                  $0.000000  $0.000000       $71.110000  \n12   247.52    0.1234                  $7.500000  $0.000000      $178.520000  \n13  1077.60    0.1234                  $7.500000  $0.000000      $140.480000  ",
            "text/html": "<div>\n<style scoped>\n    .dataframe tbody tr th:only-of-type {\n        vertical-align: middle;\n    }\n\n    .dataframe tbody tr th {\n        vertical-align: top;\n    }\n\n    .dataframe thead th {\n        text-align: right;\n    }\n</style>\n<table border=\"1\" class=\"dataframe\">\n  <thead>\n    <tr style=\"text-align: right;\">\n      <th></th>\n      <th>Customer Name</th>\n      <th>Job ID</th>\n      <th>Invoice Date</th>\n      <th>Due Date</th>\n      <th>Previous Balance</th>\n      <th>Payments</th>\n      <th>Previous Unpaid Balance</th>\n      <th>Current Charges</th>\n      <th>kWh</th>\n      <th>kWh Rate</th>\n      <th>Non-ACH AutoPay Adjustment</th>\n      <th>Tax</th>\n      <th>Total Amount due</th>\n    </tr>\n  </thead>\n  <tbody>\n    <tr>\n      <th>0</th>\n      <td>Mahesh Goud Thorupunoori</td>\n      <td>JB-2102067-00</td>\n      <td>03/06/2022</td>\n      <td>04/05/2022</td>\n      <td>$32.980000</td>\n      <td>$32.980000</td>\n      <td>$0.000000</td>\n      <td>$49.480000</td>\n      <td>389.58</td>\n      <td>0.1270</td>\n      <td>$0.000000</td>\n      <td>$0.000000</td>\n      <td>$49.480000</td>\n    </tr>\n    <tr>\n      <th>1</th>\n      <td>Mahesh Goud Thorupunoori</td>\n      <td>JB-2102067-00</td>\n      <td>02/06/2022</td>\n      <td>03/05/2022</td>\n      <td>$33.410000</td>\n      <td>$33.410000</td>\n      <td>$0.000000</td>\n      <td>$32.980000</td>\n      <td>259.66</td>\n      <td>0.1270</td>\n      <td>$0.000000</td>\n      <td>$0.000000</td>\n      <td>$32.980000</td>\n    </tr>\n    <tr>\n      <th>2</th>\n      <td>Mahesh Goud Thorupunoori</td>\n      <td>JB-2102067-00</td>\n      <td>01/06/2022</td>\n      <td>02/05/2022</td>\n      <td>$46.490000</td>\n      <td>$46.490000</td>\n      <td>$0.000000</td>\n      <td>$33.410000</td>\n      <td>263.10</td>\n      <td>0.1270</td>\n      <td>$0.000000</td>\n      <td>$0.000000</td>\n      <td>$33.410000</td>\n    </tr>\n    <tr>\n      <th>3</th>\n      <td>Mahesh Goud Thorupunoori</td>\n      <td>JB-2102067-00</td>\n      <td>12/06/2021</td>\n      <td>01/05/2022</td>\n      <td>$48.680000</td>\n      <td>$48.680000</td>\n      <td>$0.000000</td>\n      <td>$46.490000</td>\n      <td>376.76</td>\n      <td>0.1234</td>\n      <td>$0.000000</td>\n      <td>$0.000000</td>\n      <td>$46.490000</td>\n    </tr>\n    <tr>\n      <th>4</th>\n      <td>Mahesh Goud Thorupunoori</td>\n      <td>JB-2102067-00</td>\n      <td>11/06/2021</td>\n      <td>12/05/2021</td>\n      <td>$52.710000</td>\n      <td>$52.710000</td>\n      <td>$0.000000</td>\n      <td>$48.680000</td>\n      <td>394.47</td>\n      <td>0.1234</td>\n      <td>$0.000000</td>\n      <td>$0.000000</td>\n      <td>$48.680000</td>\n    </tr>\n    <tr>\n      <th>5</th>\n      <td>Mahesh Goud Thorupunoori</td>\n      <td>JB-2102067-00</td>\n      <td>10/06/2021</td>\n      <td>11/05/2021</td>\n      <td>$0.000000</td>\n      <td>$0.000000</td>\n      <td>$0.000000</td>\n      <td>$68.940000</td>\n      <td>558.71</td>\n      <td>0.1234</td>\n      <td>$0.000000</td>\n      <td>$0.000000</td>\n      <td>$52.710000</td>\n    </tr>\n    <tr>\n      <th>6</th>\n      <td>Mahesh Goud Thorupunoori</td>\n      <td>JB-2102067-00</td>\n      <td>09/06/2021</td>\n      <td>10/05/2021</td>\n      <td>$0.000000</td>\n      <td>$0.000000</td>\n      <td>$0.000000</td>\n      <td>$75.450000</td>\n      <td>611.44</td>\n      <td>0.1234</td>\n      <td>$0.000000</td>\n      <td>$0.000000</td>\n      <td>$0.000000</td>\n    </tr>\n    <tr>\n      <th>7</th>\n      <td>Mahesh Goud Thorupunoori</td>\n      <td>JB-2102067-00</td>\n      <td>08/06/2021</td>\n      <td>09/05/2021</td>\n      <td>$90.910000</td>\n      <td>$90.910000</td>\n      <td>$0.000000</td>\n      <td>$0.000000</td>\n      <td>-742.96</td>\n      <td>0.1234</td>\n      <td>$0.000000</td>\n      <td>$0.000000</td>\n      <td>$0.000000</td>\n    </tr>\n    <tr>\n      <th>8</th>\n      <td>Mahesh Goud Thorupunoori</td>\n      <td>JB-2102067-00</td>\n      <td>07/06/2021</td>\n      <td>08/05/2021</td>\n      <td>$31.870000</td>\n      <td>$31.870000</td>\n      <td>$0.000000</td>\n      <td>$90.910000</td>\n      <td>736.72</td>\n      <td>0.1234</td>\n      <td>$0.000000</td>\n      <td>$0.000000</td>\n      <td>$90.910000</td>\n    </tr>\n    <tr>\n      <th>9</th>\n      <td>Mahesh Goud Thorupunoori</td>\n      <td>JB-2102067-00</td>\n      <td>06/06/2021</td>\n      <td>07/05/2021</td>\n      <td>$20.640000</td>\n      <td>$20.640000</td>\n      <td>$0.000000</td>\n      <td>$31.870000</td>\n      <td>258.25</td>\n      <td>0.1234</td>\n      <td>$0.000000</td>\n      <td>$0.000000</td>\n      <td>$31.870000</td>\n    </tr>\n    <tr>\n      <th>10</th>\n      <td>Mahesh Goud Thorupunoori</td>\n      <td>JB-2102067-00</td>\n      <td>05/06/2021</td>\n      <td>06/05/2021</td>\n      <td>$71.110000</td>\n      <td>$71.110000</td>\n      <td>$0.000000</td>\n      <td>$20.640000</td>\n      <td>167.23</td>\n      <td>0.1234</td>\n      <td>$0.000000</td>\n      <td>$0.000000</td>\n      <td>$20.640000</td>\n    </tr>\n    <tr>\n      <th>11</th>\n      <td>Mahesh Goud Thorupunoori</td>\n      <td>JB-2102067-00</td>\n      <td>04/11/2021</td>\n      <td>05/05/2021</td>\n      <td>$178.520000</td>\n      <td>$178.520000</td>\n      <td>$0.000000</td>\n      <td>$71.110000</td>\n      <td>576.28</td>\n      <td>0.1234</td>\n      <td>$0.000000</td>\n      <td>$0.000000</td>\n      <td>$71.110000</td>\n    </tr>\n    <tr>\n      <th>12</th>\n      <td>Mahesh Goud Thorupunoori</td>\n      <td>JB-2102067-00</td>\n      <td>03/03/2021</td>\n      <td>04/10/2021</td>\n      <td>$140.480000</td>\n      <td>$0</td>\n      <td>$140.480000</td>\n      <td>$38.040000</td>\n      <td>247.52</td>\n      <td>0.1234</td>\n      <td>$7.500000</td>\n      <td>$0.000000</td>\n      <td>$178.520000</td>\n    </tr>\n    <tr>\n      <th>13</th>\n      <td>Mahesh Goud Thorupunoori</td>\n      <td>JB-2102067-00</td>\n      <td>02/03/2021</td>\n      <td>03/01/2021</td>\n      <td>$0</td>\n      <td>$0</td>\n      <td>$0</td>\n      <td>$140.480000</td>\n      <td>1077.60</td>\n      <td>0.1234</td>\n      <td>$7.500000</td>\n      <td>$0.000000</td>\n      <td>$140.480000</td>\n    </tr>\n  </tbody>\n</table>\n</div>"
          },
          "metadata": {}
        }
      ]
    },
    {
      "cell_type": "code",
      "source": "titanic.head(2)",
      "metadata": {
        "trusted": true
      },
      "execution_count": 40,
      "outputs": [
        {
          "execution_count": 40,
          "output_type": "execute_result",
          "data": {
            "text/plain": "              Customer Name         Job ID Invoice Date    Due Date  \\\n0  Mahesh Goud Thorupunoori  JB-2102067-00   03/06/2022  04/05/2022   \n1  Mahesh Goud Thorupunoori  JB-2102067-00   02/06/2022  03/05/2022   \n\n  Previous Balance    Payments Previous Unpaid Balance Current Charges  \\\n0       $32.980000  $32.980000               $0.000000      $49.480000   \n1       $33.410000  $33.410000               $0.000000      $32.980000   \n\n      kWh  kWh Rate Non-ACH AutoPay Adjustment        Tax Total Amount due  \n0  389.58     0.127                  $0.000000  $0.000000       $49.480000  \n1  259.66     0.127                  $0.000000  $0.000000       $32.980000  ",
            "text/html": "<div>\n<style scoped>\n    .dataframe tbody tr th:only-of-type {\n        vertical-align: middle;\n    }\n\n    .dataframe tbody tr th {\n        vertical-align: top;\n    }\n\n    .dataframe thead th {\n        text-align: right;\n    }\n</style>\n<table border=\"1\" class=\"dataframe\">\n  <thead>\n    <tr style=\"text-align: right;\">\n      <th></th>\n      <th>Customer Name</th>\n      <th>Job ID</th>\n      <th>Invoice Date</th>\n      <th>Due Date</th>\n      <th>Previous Balance</th>\n      <th>Payments</th>\n      <th>Previous Unpaid Balance</th>\n      <th>Current Charges</th>\n      <th>kWh</th>\n      <th>kWh Rate</th>\n      <th>Non-ACH AutoPay Adjustment</th>\n      <th>Tax</th>\n      <th>Total Amount due</th>\n    </tr>\n  </thead>\n  <tbody>\n    <tr>\n      <th>0</th>\n      <td>Mahesh Goud Thorupunoori</td>\n      <td>JB-2102067-00</td>\n      <td>03/06/2022</td>\n      <td>04/05/2022</td>\n      <td>$32.980000</td>\n      <td>$32.980000</td>\n      <td>$0.000000</td>\n      <td>$49.480000</td>\n      <td>389.58</td>\n      <td>0.127</td>\n      <td>$0.000000</td>\n      <td>$0.000000</td>\n      <td>$49.480000</td>\n    </tr>\n    <tr>\n      <th>1</th>\n      <td>Mahesh Goud Thorupunoori</td>\n      <td>JB-2102067-00</td>\n      <td>02/06/2022</td>\n      <td>03/05/2022</td>\n      <td>$33.410000</td>\n      <td>$33.410000</td>\n      <td>$0.000000</td>\n      <td>$32.980000</td>\n      <td>259.66</td>\n      <td>0.127</td>\n      <td>$0.000000</td>\n      <td>$0.000000</td>\n      <td>$32.980000</td>\n    </tr>\n  </tbody>\n</table>\n</div>"
          },
          "metadata": {}
        }
      ]
    },
    {
      "cell_type": "code",
      "source": "titanic.tail(2)",
      "metadata": {
        "trusted": true
      },
      "execution_count": 41,
      "outputs": [
        {
          "execution_count": 41,
          "output_type": "execute_result",
          "data": {
            "text/plain": "               Customer Name         Job ID Invoice Date    Due Date  \\\n12  Mahesh Goud Thorupunoori  JB-2102067-00   03/03/2021  04/10/2021   \n13  Mahesh Goud Thorupunoori  JB-2102067-00   02/03/2021  03/01/2021   \n\n   Previous Balance Payments Previous Unpaid Balance Current Charges      kWh  \\\n12      $140.480000       $0             $140.480000      $38.040000   247.52   \n13               $0       $0                      $0     $140.480000  1077.60   \n\n    kWh Rate Non-ACH AutoPay Adjustment        Tax Total Amount due  \n12    0.1234                  $7.500000  $0.000000      $178.520000  \n13    0.1234                  $7.500000  $0.000000      $140.480000  ",
            "text/html": "<div>\n<style scoped>\n    .dataframe tbody tr th:only-of-type {\n        vertical-align: middle;\n    }\n\n    .dataframe tbody tr th {\n        vertical-align: top;\n    }\n\n    .dataframe thead th {\n        text-align: right;\n    }\n</style>\n<table border=\"1\" class=\"dataframe\">\n  <thead>\n    <tr style=\"text-align: right;\">\n      <th></th>\n      <th>Customer Name</th>\n      <th>Job ID</th>\n      <th>Invoice Date</th>\n      <th>Due Date</th>\n      <th>Previous Balance</th>\n      <th>Payments</th>\n      <th>Previous Unpaid Balance</th>\n      <th>Current Charges</th>\n      <th>kWh</th>\n      <th>kWh Rate</th>\n      <th>Non-ACH AutoPay Adjustment</th>\n      <th>Tax</th>\n      <th>Total Amount due</th>\n    </tr>\n  </thead>\n  <tbody>\n    <tr>\n      <th>12</th>\n      <td>Mahesh Goud Thorupunoori</td>\n      <td>JB-2102067-00</td>\n      <td>03/03/2021</td>\n      <td>04/10/2021</td>\n      <td>$140.480000</td>\n      <td>$0</td>\n      <td>$140.480000</td>\n      <td>$38.040000</td>\n      <td>247.52</td>\n      <td>0.1234</td>\n      <td>$7.500000</td>\n      <td>$0.000000</td>\n      <td>$178.520000</td>\n    </tr>\n    <tr>\n      <th>13</th>\n      <td>Mahesh Goud Thorupunoori</td>\n      <td>JB-2102067-00</td>\n      <td>02/03/2021</td>\n      <td>03/01/2021</td>\n      <td>$0</td>\n      <td>$0</td>\n      <td>$0</td>\n      <td>$140.480000</td>\n      <td>1077.60</td>\n      <td>0.1234</td>\n      <td>$7.500000</td>\n      <td>$0.000000</td>\n      <td>$140.480000</td>\n    </tr>\n  </tbody>\n</table>\n</div>"
          },
          "metadata": {}
        }
      ]
    },
    {
      "cell_type": "code",
      "source": "titanic.dtypes",
      "metadata": {
        "trusted": true
      },
      "execution_count": 43,
      "outputs": [
        {
          "execution_count": 43,
          "output_type": "execute_result",
          "data": {
            "text/plain": "Customer Name                  object\nJob ID                         object\nInvoice Date                   object\nDue Date                       object\nPrevious Balance               object\nPayments                       object\nPrevious Unpaid Balance        object\nCurrent Charges                object\nkWh                           float64\nkWh Rate                      float64\nNon-ACH AutoPay Adjustment     object\nTax                            object\nTotal Amount due               object\ndtype: object"
          },
          "metadata": {}
        }
      ]
    },
    {
      "cell_type": "code",
      "source": "df1 = pd.DataFrame([['a', 'b'], ['c', 'd']],\n                   index=['row 1', 'row 2'],\n                   columns=['col 1', 'col 2'])\ndf1\n#.to_excel(\"output.xlsx\")  ",
      "metadata": {
        "trusted": true
      },
      "execution_count": 52,
      "outputs": [
        {
          "execution_count": 52,
          "output_type": "execute_result",
          "data": {
            "text/plain": "      col 1 col 2\nrow 1     a     b\nrow 2     c     d",
            "text/html": "<div>\n<style scoped>\n    .dataframe tbody tr th:only-of-type {\n        vertical-align: middle;\n    }\n\n    .dataframe tbody tr th {\n        vertical-align: top;\n    }\n\n    .dataframe thead th {\n        text-align: right;\n    }\n</style>\n<table border=\"1\" class=\"dataframe\">\n  <thead>\n    <tr style=\"text-align: right;\">\n      <th></th>\n      <th>col 1</th>\n      <th>col 2</th>\n    </tr>\n  </thead>\n  <tbody>\n    <tr>\n      <th>row 1</th>\n      <td>a</td>\n      <td>b</td>\n    </tr>\n    <tr>\n      <th>row 2</th>\n      <td>c</td>\n      <td>d</td>\n    </tr>\n  </tbody>\n</table>\n</div>"
          },
          "metadata": {}
        }
      ]
    },
    {
      "cell_type": "code",
      "source": "df = pd.read_csv('titanic.csv')\n#df_XLSX = pd.read_excel('titanic.xlsx')\n#df_txt = pd.read_csv('titanic.csv', delimeter='\\t')\ndf\n#print(titanic.head(3))",
      "metadata": {
        "trusted": true
      },
      "execution_count": 78,
      "outputs": [
        {
          "execution_count": 78,
          "output_type": "execute_result",
          "data": {
            "text/plain": "     PassengerId  Survived  Pclass  \\\n0              1         0       3   \n1              2         1       1   \n2              3         1       3   \n3              4         1       1   \n4              5         0       3   \n..           ...       ...     ...   \n886          887         0       2   \n887          888         1       1   \n888          889         0       3   \n889          890         1       1   \n890          891         0       3   \n\n                                                  Name     Sex   Age  SibSp  \\\n0                              Braund, Mr. Owen Harris    male  22.0      1   \n1    Cumings, Mrs. John Bradley (Florence Briggs Th...  female  38.0      1   \n2                               Heikkinen, Miss. Laina  female  26.0      0   \n3         Futrelle, Mrs. Jacques Heath (Lily May Peel)  female  35.0      1   \n4                             Allen, Mr. William Henry    male  35.0      0   \n..                                                 ...     ...   ...    ...   \n886                              Montvila, Rev. Juozas    male  27.0      0   \n887                       Graham, Miss. Margaret Edith  female  19.0      0   \n888           Johnston, Miss. Catherine Helen \"Carrie\"  female   NaN      1   \n889                              Behr, Mr. Karl Howell    male  26.0      0   \n890                                Dooley, Mr. Patrick    male  32.0      0   \n\n     Parch            Ticket     Fare Cabin Embarked  \n0        0         A/5 21171   7.2500   NaN        S  \n1        0          PC 17599  71.2833   C85        C  \n2        0  STON/O2. 3101282   7.9250   NaN        S  \n3        0            113803  53.1000  C123        S  \n4        0            373450   8.0500   NaN        S  \n..     ...               ...      ...   ...      ...  \n886      0            211536  13.0000   NaN        S  \n887      0            112053  30.0000   B42        S  \n888      2        W./C. 6607  23.4500   NaN        S  \n889      0            111369  30.0000  C148        C  \n890      0            370376   7.7500   NaN        Q  \n\n[891 rows x 12 columns]",
            "text/html": "<div>\n<style scoped>\n    .dataframe tbody tr th:only-of-type {\n        vertical-align: middle;\n    }\n\n    .dataframe tbody tr th {\n        vertical-align: top;\n    }\n\n    .dataframe thead th {\n        text-align: right;\n    }\n</style>\n<table border=\"1\" class=\"dataframe\">\n  <thead>\n    <tr style=\"text-align: right;\">\n      <th></th>\n      <th>PassengerId</th>\n      <th>Survived</th>\n      <th>Pclass</th>\n      <th>Name</th>\n      <th>Sex</th>\n      <th>Age</th>\n      <th>SibSp</th>\n      <th>Parch</th>\n      <th>Ticket</th>\n      <th>Fare</th>\n      <th>Cabin</th>\n      <th>Embarked</th>\n    </tr>\n  </thead>\n  <tbody>\n    <tr>\n      <th>0</th>\n      <td>1</td>\n      <td>0</td>\n      <td>3</td>\n      <td>Braund, Mr. Owen Harris</td>\n      <td>male</td>\n      <td>22.0</td>\n      <td>1</td>\n      <td>0</td>\n      <td>A/5 21171</td>\n      <td>7.2500</td>\n      <td>NaN</td>\n      <td>S</td>\n    </tr>\n    <tr>\n      <th>1</th>\n      <td>2</td>\n      <td>1</td>\n      <td>1</td>\n      <td>Cumings, Mrs. John Bradley (Florence Briggs Th...</td>\n      <td>female</td>\n      <td>38.0</td>\n      <td>1</td>\n      <td>0</td>\n      <td>PC 17599</td>\n      <td>71.2833</td>\n      <td>C85</td>\n      <td>C</td>\n    </tr>\n    <tr>\n      <th>2</th>\n      <td>3</td>\n      <td>1</td>\n      <td>3</td>\n      <td>Heikkinen, Miss. Laina</td>\n      <td>female</td>\n      <td>26.0</td>\n      <td>0</td>\n      <td>0</td>\n      <td>STON/O2. 3101282</td>\n      <td>7.9250</td>\n      <td>NaN</td>\n      <td>S</td>\n    </tr>\n    <tr>\n      <th>3</th>\n      <td>4</td>\n      <td>1</td>\n      <td>1</td>\n      <td>Futrelle, Mrs. Jacques Heath (Lily May Peel)</td>\n      <td>female</td>\n      <td>35.0</td>\n      <td>1</td>\n      <td>0</td>\n      <td>113803</td>\n      <td>53.1000</td>\n      <td>C123</td>\n      <td>S</td>\n    </tr>\n    <tr>\n      <th>4</th>\n      <td>5</td>\n      <td>0</td>\n      <td>3</td>\n      <td>Allen, Mr. William Henry</td>\n      <td>male</td>\n      <td>35.0</td>\n      <td>0</td>\n      <td>0</td>\n      <td>373450</td>\n      <td>8.0500</td>\n      <td>NaN</td>\n      <td>S</td>\n    </tr>\n    <tr>\n      <th>...</th>\n      <td>...</td>\n      <td>...</td>\n      <td>...</td>\n      <td>...</td>\n      <td>...</td>\n      <td>...</td>\n      <td>...</td>\n      <td>...</td>\n      <td>...</td>\n      <td>...</td>\n      <td>...</td>\n      <td>...</td>\n    </tr>\n    <tr>\n      <th>886</th>\n      <td>887</td>\n      <td>0</td>\n      <td>2</td>\n      <td>Montvila, Rev. Juozas</td>\n      <td>male</td>\n      <td>27.0</td>\n      <td>0</td>\n      <td>0</td>\n      <td>211536</td>\n      <td>13.0000</td>\n      <td>NaN</td>\n      <td>S</td>\n    </tr>\n    <tr>\n      <th>887</th>\n      <td>888</td>\n      <td>1</td>\n      <td>1</td>\n      <td>Graham, Miss. Margaret Edith</td>\n      <td>female</td>\n      <td>19.0</td>\n      <td>0</td>\n      <td>0</td>\n      <td>112053</td>\n      <td>30.0000</td>\n      <td>B42</td>\n      <td>S</td>\n    </tr>\n    <tr>\n      <th>888</th>\n      <td>889</td>\n      <td>0</td>\n      <td>3</td>\n      <td>Johnston, Miss. Catherine Helen \"Carrie\"</td>\n      <td>female</td>\n      <td>NaN</td>\n      <td>1</td>\n      <td>2</td>\n      <td>W./C. 6607</td>\n      <td>23.4500</td>\n      <td>NaN</td>\n      <td>S</td>\n    </tr>\n    <tr>\n      <th>889</th>\n      <td>890</td>\n      <td>1</td>\n      <td>1</td>\n      <td>Behr, Mr. Karl Howell</td>\n      <td>male</td>\n      <td>26.0</td>\n      <td>0</td>\n      <td>0</td>\n      <td>111369</td>\n      <td>30.0000</td>\n      <td>C148</td>\n      <td>C</td>\n    </tr>\n    <tr>\n      <th>890</th>\n      <td>891</td>\n      <td>0</td>\n      <td>3</td>\n      <td>Dooley, Mr. Patrick</td>\n      <td>male</td>\n      <td>32.0</td>\n      <td>0</td>\n      <td>0</td>\n      <td>370376</td>\n      <td>7.7500</td>\n      <td>NaN</td>\n      <td>Q</td>\n    </tr>\n  </tbody>\n</table>\n<p>891 rows × 12 columns</p>\n</div>"
          },
          "metadata": {}
        }
      ]
    },
    {
      "cell_type": "code",
      "source": "#Read Headers\n\nprint(df.columns)\n\ndf\n##Read each column\n\n#df[['PassengerId', 'Pclass']] [0:5]\n\n##Read each row\ndf.iloc[0:4]\n\n\n##Read a specific loaction (R,C)\n#df.iloc[2,3]\n\n#for index, row in df.iterrows():\n   # print(index,row['Name'])\n    \ndf.loc[df['Cabin'] == \"NaN\"]\n\ndf.describe()\ndf.sort_values('Name', ascending = False)\n\ndf.sort_values(['Name', 'Ticket'], ascending = True)\n\ndf.sort_values(['Name', 'Ticket'], ascending = [1,0])",
      "metadata": {
        "trusted": true
      },
      "execution_count": 147,
      "outputs": [
        {
          "name": "stdout",
          "text": "Index(['PassengerId', 'Survived', 'Pclass', 'Total', 'SibSp', 'Fare', 'Cabin',\n       'Cabin', 'Cabin', 'Cabin',\n       ...\n       'Cabin', 'Cabin', 'Cabin', 'Cabin', 'Cabin', 'Cabin', 'Cabin', 'Cabin',\n       'Cabin', 'Cabin'],\n      dtype='object', length=102)\n",
          "output_type": "stream"
        },
        {
          "ename": "<class 'ValueError'>",
          "evalue": "Cannot index with multidimensional key",
          "traceback": [
            "\u001b[0;31m---------------------------------------------------------------------------\u001b[0m",
            "\u001b[0;31mValueError\u001b[0m                                Traceback (most recent call last)",
            "Input \u001b[0;32mIn [147]\u001b[0m, in \u001b[0;36m<cell line: 20>\u001b[0;34m()\u001b[0m\n\u001b[1;32m     11\u001b[0m df\u001b[38;5;241m.\u001b[39miloc[\u001b[38;5;241m0\u001b[39m:\u001b[38;5;241m4\u001b[39m]\n\u001b[1;32m     14\u001b[0m \u001b[38;5;66;03m##Read a specific loaction (R,C)\u001b[39;00m\n\u001b[1;32m     15\u001b[0m \u001b[38;5;66;03m#df.iloc[2,3]\u001b[39;00m\n\u001b[1;32m     16\u001b[0m \n\u001b[1;32m     17\u001b[0m \u001b[38;5;66;03m#for index, row in df.iterrows():\u001b[39;00m\n\u001b[1;32m     18\u001b[0m    \u001b[38;5;66;03m# print(index,row['Name'])\u001b[39;00m\n\u001b[0;32m---> 20\u001b[0m \u001b[43mdf\u001b[49m\u001b[38;5;241;43m.\u001b[39;49m\u001b[43mloc\u001b[49m\u001b[43m[\u001b[49m\u001b[43mdf\u001b[49m\u001b[43m[\u001b[49m\u001b[38;5;124;43m'\u001b[39;49m\u001b[38;5;124;43mCabin\u001b[39;49m\u001b[38;5;124;43m'\u001b[39;49m\u001b[43m]\u001b[49m\u001b[43m \u001b[49m\u001b[38;5;241;43m==\u001b[39;49m\u001b[43m \u001b[49m\u001b[38;5;124;43m\"\u001b[39;49m\u001b[38;5;124;43mNaN\u001b[39;49m\u001b[38;5;124;43m\"\u001b[39;49m\u001b[43m]\u001b[49m\n\u001b[1;32m     22\u001b[0m df\u001b[38;5;241m.\u001b[39mdescribe()\n\u001b[1;32m     23\u001b[0m df\u001b[38;5;241m.\u001b[39msort_values(\u001b[38;5;124m'\u001b[39m\u001b[38;5;124mName\u001b[39m\u001b[38;5;124m'\u001b[39m, ascending \u001b[38;5;241m=\u001b[39m \u001b[38;5;28;01mFalse\u001b[39;00m)\n",
            "File \u001b[0;32m/lib/python3.10/site-packages/pandas/core/indexing.py:967\u001b[0m, in \u001b[0;36m_LocationIndexer.__getitem__\u001b[0;34m(self, key)\u001b[0m\n\u001b[1;32m    964\u001b[0m axis \u001b[38;5;241m=\u001b[39m \u001b[38;5;28mself\u001b[39m\u001b[38;5;241m.\u001b[39maxis \u001b[38;5;129;01mor\u001b[39;00m \u001b[38;5;241m0\u001b[39m\n\u001b[1;32m    966\u001b[0m maybe_callable \u001b[38;5;241m=\u001b[39m com\u001b[38;5;241m.\u001b[39mapply_if_callable(key, \u001b[38;5;28mself\u001b[39m\u001b[38;5;241m.\u001b[39mobj)\n\u001b[0;32m--> 967\u001b[0m \u001b[38;5;28;01mreturn\u001b[39;00m \u001b[38;5;28;43mself\u001b[39;49m\u001b[38;5;241;43m.\u001b[39;49m\u001b[43m_getitem_axis\u001b[49m\u001b[43m(\u001b[49m\u001b[43mmaybe_callable\u001b[49m\u001b[43m,\u001b[49m\u001b[43m \u001b[49m\u001b[43maxis\u001b[49m\u001b[38;5;241;43m=\u001b[39;49m\u001b[43maxis\u001b[49m\u001b[43m)\u001b[49m\n",
            "File \u001b[0;32m/lib/python3.10/site-packages/pandas/core/indexing.py:1189\u001b[0m, in \u001b[0;36m_LocIndexer._getitem_axis\u001b[0;34m(self, key, axis)\u001b[0m\n\u001b[1;32m   1186\u001b[0m \u001b[38;5;28;01mif\u001b[39;00m \u001b[38;5;129;01mnot\u001b[39;00m (\u001b[38;5;28misinstance\u001b[39m(key, \u001b[38;5;28mtuple\u001b[39m) \u001b[38;5;129;01mand\u001b[39;00m \u001b[38;5;28misinstance\u001b[39m(labels, MultiIndex)):\n\u001b[1;32m   1188\u001b[0m     \u001b[38;5;28;01mif\u001b[39;00m \u001b[38;5;28mhasattr\u001b[39m(key, \u001b[38;5;124m\"\u001b[39m\u001b[38;5;124mndim\u001b[39m\u001b[38;5;124m\"\u001b[39m) \u001b[38;5;129;01mand\u001b[39;00m key\u001b[38;5;241m.\u001b[39mndim \u001b[38;5;241m>\u001b[39m \u001b[38;5;241m1\u001b[39m:\n\u001b[0;32m-> 1189\u001b[0m         \u001b[38;5;28;01mraise\u001b[39;00m \u001b[38;5;167;01mValueError\u001b[39;00m(\u001b[38;5;124m\"\u001b[39m\u001b[38;5;124mCannot index with multidimensional key\u001b[39m\u001b[38;5;124m\"\u001b[39m)\n\u001b[1;32m   1191\u001b[0m     \u001b[38;5;28;01mreturn\u001b[39;00m \u001b[38;5;28mself\u001b[39m\u001b[38;5;241m.\u001b[39m_getitem_iterable(key, axis\u001b[38;5;241m=\u001b[39maxis)\n\u001b[1;32m   1193\u001b[0m \u001b[38;5;66;03m# nested tuple slicing\u001b[39;00m\n",
            "\u001b[0;31mValueError\u001b[0m: Cannot index with multidimensional key"
          ],
          "output_type": "error"
        }
      ]
    },
    {
      "cell_type": "code",
      "source": "#df['Total'] = df['SibSp'] + df['Parch']+ df['Fare']\n\n#df = df.drop(columns = ['Total'])\n\n# all columns\ndf['Total'] = df.iloc[:, 5:8].sum(axis=1)\n\ncols = list(df.columns)\n\ndf = df[cols[0:4] + [cols[-1]] + cols[4:11]]\n\n#df[['Name', 'sex', 'Ticket', 'Total']]\n\n\ndf.head(5)\n",
      "metadata": {
        "trusted": true
      },
      "execution_count": 145,
      "outputs": [
        {
          "execution_count": 145,
          "output_type": "execute_result",
          "data": {
            "text/plain": "   PassengerId  Survived  Pclass         Total  SibSp     Fare Cabin Cabin  \\\n0            1         0       3             0      1   7.2500   NaN   NaN   \n1            2         1       1     C85C85C85      1  71.2833   C85   C85   \n2            3         1       3             0      0   7.9250   NaN   NaN   \n3            4         1       1  C123C123C123      1  53.1000  C123  C123   \n4            5         0       3             0      0   8.0500   NaN   NaN   \n\n  Cabin Cabin  ... Cabin Cabin Cabin Cabin Cabin Cabin Cabin Cabin Cabin Cabin  \n0   NaN   NaN  ...   NaN   NaN   NaN   NaN   NaN   NaN   NaN   NaN   NaN   NaN  \n1   C85   C85  ...   C85   C85   C85   C85   C85   C85   C85   C85   C85   C85  \n2   NaN   NaN  ...   NaN   NaN   NaN   NaN   NaN   NaN   NaN   NaN   NaN   NaN  \n3  C123  C123  ...  C123  C123  C123  C123  C123  C123  C123  C123  C123  C123  \n4   NaN   NaN  ...   NaN   NaN   NaN   NaN   NaN   NaN   NaN   NaN   NaN   NaN  \n\n[5 rows x 102 columns]",
            "text/html": "<div>\n<style scoped>\n    .dataframe tbody tr th:only-of-type {\n        vertical-align: middle;\n    }\n\n    .dataframe tbody tr th {\n        vertical-align: top;\n    }\n\n    .dataframe thead th {\n        text-align: right;\n    }\n</style>\n<table border=\"1\" class=\"dataframe\">\n  <thead>\n    <tr style=\"text-align: right;\">\n      <th></th>\n      <th>PassengerId</th>\n      <th>Survived</th>\n      <th>Pclass</th>\n      <th>Total</th>\n      <th>SibSp</th>\n      <th>Fare</th>\n      <th>Cabin</th>\n      <th>Cabin</th>\n      <th>Cabin</th>\n      <th>Cabin</th>\n      <th>...</th>\n      <th>Cabin</th>\n      <th>Cabin</th>\n      <th>Cabin</th>\n      <th>Cabin</th>\n      <th>Cabin</th>\n      <th>Cabin</th>\n      <th>Cabin</th>\n      <th>Cabin</th>\n      <th>Cabin</th>\n      <th>Cabin</th>\n    </tr>\n  </thead>\n  <tbody>\n    <tr>\n      <th>0</th>\n      <td>1</td>\n      <td>0</td>\n      <td>3</td>\n      <td>0</td>\n      <td>1</td>\n      <td>7.2500</td>\n      <td>NaN</td>\n      <td>NaN</td>\n      <td>NaN</td>\n      <td>NaN</td>\n      <td>...</td>\n      <td>NaN</td>\n      <td>NaN</td>\n      <td>NaN</td>\n      <td>NaN</td>\n      <td>NaN</td>\n      <td>NaN</td>\n      <td>NaN</td>\n      <td>NaN</td>\n      <td>NaN</td>\n      <td>NaN</td>\n    </tr>\n    <tr>\n      <th>1</th>\n      <td>2</td>\n      <td>1</td>\n      <td>1</td>\n      <td>C85C85C85</td>\n      <td>1</td>\n      <td>71.2833</td>\n      <td>C85</td>\n      <td>C85</td>\n      <td>C85</td>\n      <td>C85</td>\n      <td>...</td>\n      <td>C85</td>\n      <td>C85</td>\n      <td>C85</td>\n      <td>C85</td>\n      <td>C85</td>\n      <td>C85</td>\n      <td>C85</td>\n      <td>C85</td>\n      <td>C85</td>\n      <td>C85</td>\n    </tr>\n    <tr>\n      <th>2</th>\n      <td>3</td>\n      <td>1</td>\n      <td>3</td>\n      <td>0</td>\n      <td>0</td>\n      <td>7.9250</td>\n      <td>NaN</td>\n      <td>NaN</td>\n      <td>NaN</td>\n      <td>NaN</td>\n      <td>...</td>\n      <td>NaN</td>\n      <td>NaN</td>\n      <td>NaN</td>\n      <td>NaN</td>\n      <td>NaN</td>\n      <td>NaN</td>\n      <td>NaN</td>\n      <td>NaN</td>\n      <td>NaN</td>\n      <td>NaN</td>\n    </tr>\n    <tr>\n      <th>3</th>\n      <td>4</td>\n      <td>1</td>\n      <td>1</td>\n      <td>C123C123C123</td>\n      <td>1</td>\n      <td>53.1000</td>\n      <td>C123</td>\n      <td>C123</td>\n      <td>C123</td>\n      <td>C123</td>\n      <td>...</td>\n      <td>C123</td>\n      <td>C123</td>\n      <td>C123</td>\n      <td>C123</td>\n      <td>C123</td>\n      <td>C123</td>\n      <td>C123</td>\n      <td>C123</td>\n      <td>C123</td>\n      <td>C123</td>\n    </tr>\n    <tr>\n      <th>4</th>\n      <td>5</td>\n      <td>0</td>\n      <td>3</td>\n      <td>0</td>\n      <td>0</td>\n      <td>8.0500</td>\n      <td>NaN</td>\n      <td>NaN</td>\n      <td>NaN</td>\n      <td>NaN</td>\n      <td>...</td>\n      <td>NaN</td>\n      <td>NaN</td>\n      <td>NaN</td>\n      <td>NaN</td>\n      <td>NaN</td>\n      <td>NaN</td>\n      <td>NaN</td>\n      <td>NaN</td>\n      <td>NaN</td>\n      <td>NaN</td>\n    </tr>\n  </tbody>\n</table>\n<p>5 rows × 102 columns</p>\n</div>"
          },
          "metadata": {}
        }
      ]
    },
    {
      "cell_type": "code",
      "source": "df",
      "metadata": {
        "trusted": true
      },
      "execution_count": 146,
      "outputs": [
        {
          "execution_count": 146,
          "output_type": "execute_result",
          "data": {
            "text/plain": "     PassengerId  Survived  Pclass         Total  SibSp     Fare Cabin Cabin  \\\n0              1         0       3             0      1   7.2500   NaN   NaN   \n1              2         1       1     C85C85C85      1  71.2833   C85   C85   \n2              3         1       3             0      0   7.9250   NaN   NaN   \n3              4         1       1  C123C123C123      1  53.1000  C123  C123   \n4              5         0       3             0      0   8.0500   NaN   NaN   \n..           ...       ...     ...           ...    ...      ...   ...   ...   \n886          887         0       2             0      0  13.0000   NaN   NaN   \n887          888         1       1     B42B42B42      0  30.0000   B42   B42   \n888          889         0       3             0      1  23.4500   NaN   NaN   \n889          890         1       1  C148C148C148      0  30.0000  C148  C148   \n890          891         0       3             0      0   7.7500   NaN   NaN   \n\n    Cabin Cabin  ... Cabin Cabin Cabin Cabin Cabin Cabin Cabin Cabin Cabin  \\\n0     NaN   NaN  ...   NaN   NaN   NaN   NaN   NaN   NaN   NaN   NaN   NaN   \n1     C85   C85  ...   C85   C85   C85   C85   C85   C85   C85   C85   C85   \n2     NaN   NaN  ...   NaN   NaN   NaN   NaN   NaN   NaN   NaN   NaN   NaN   \n3    C123  C123  ...  C123  C123  C123  C123  C123  C123  C123  C123  C123   \n4     NaN   NaN  ...   NaN   NaN   NaN   NaN   NaN   NaN   NaN   NaN   NaN   \n..    ...   ...  ...   ...   ...   ...   ...   ...   ...   ...   ...   ...   \n886   NaN   NaN  ...   NaN   NaN   NaN   NaN   NaN   NaN   NaN   NaN   NaN   \n887   B42   B42  ...   B42   B42   B42   B42   B42   B42   B42   B42   B42   \n888   NaN   NaN  ...   NaN   NaN   NaN   NaN   NaN   NaN   NaN   NaN   NaN   \n889  C148  C148  ...  C148  C148  C148  C148  C148  C148  C148  C148  C148   \n890   NaN   NaN  ...   NaN   NaN   NaN   NaN   NaN   NaN   NaN   NaN   NaN   \n\n    Cabin  \n0     NaN  \n1     C85  \n2     NaN  \n3    C123  \n4     NaN  \n..    ...  \n886   NaN  \n887   B42  \n888   NaN  \n889  C148  \n890   NaN  \n\n[891 rows x 102 columns]",
            "text/html": "<div>\n<style scoped>\n    .dataframe tbody tr th:only-of-type {\n        vertical-align: middle;\n    }\n\n    .dataframe tbody tr th {\n        vertical-align: top;\n    }\n\n    .dataframe thead th {\n        text-align: right;\n    }\n</style>\n<table border=\"1\" class=\"dataframe\">\n  <thead>\n    <tr style=\"text-align: right;\">\n      <th></th>\n      <th>PassengerId</th>\n      <th>Survived</th>\n      <th>Pclass</th>\n      <th>Total</th>\n      <th>SibSp</th>\n      <th>Fare</th>\n      <th>Cabin</th>\n      <th>Cabin</th>\n      <th>Cabin</th>\n      <th>Cabin</th>\n      <th>...</th>\n      <th>Cabin</th>\n      <th>Cabin</th>\n      <th>Cabin</th>\n      <th>Cabin</th>\n      <th>Cabin</th>\n      <th>Cabin</th>\n      <th>Cabin</th>\n      <th>Cabin</th>\n      <th>Cabin</th>\n      <th>Cabin</th>\n    </tr>\n  </thead>\n  <tbody>\n    <tr>\n      <th>0</th>\n      <td>1</td>\n      <td>0</td>\n      <td>3</td>\n      <td>0</td>\n      <td>1</td>\n      <td>7.2500</td>\n      <td>NaN</td>\n      <td>NaN</td>\n      <td>NaN</td>\n      <td>NaN</td>\n      <td>...</td>\n      <td>NaN</td>\n      <td>NaN</td>\n      <td>NaN</td>\n      <td>NaN</td>\n      <td>NaN</td>\n      <td>NaN</td>\n      <td>NaN</td>\n      <td>NaN</td>\n      <td>NaN</td>\n      <td>NaN</td>\n    </tr>\n    <tr>\n      <th>1</th>\n      <td>2</td>\n      <td>1</td>\n      <td>1</td>\n      <td>C85C85C85</td>\n      <td>1</td>\n      <td>71.2833</td>\n      <td>C85</td>\n      <td>C85</td>\n      <td>C85</td>\n      <td>C85</td>\n      <td>...</td>\n      <td>C85</td>\n      <td>C85</td>\n      <td>C85</td>\n      <td>C85</td>\n      <td>C85</td>\n      <td>C85</td>\n      <td>C85</td>\n      <td>C85</td>\n      <td>C85</td>\n      <td>C85</td>\n    </tr>\n    <tr>\n      <th>2</th>\n      <td>3</td>\n      <td>1</td>\n      <td>3</td>\n      <td>0</td>\n      <td>0</td>\n      <td>7.9250</td>\n      <td>NaN</td>\n      <td>NaN</td>\n      <td>NaN</td>\n      <td>NaN</td>\n      <td>...</td>\n      <td>NaN</td>\n      <td>NaN</td>\n      <td>NaN</td>\n      <td>NaN</td>\n      <td>NaN</td>\n      <td>NaN</td>\n      <td>NaN</td>\n      <td>NaN</td>\n      <td>NaN</td>\n      <td>NaN</td>\n    </tr>\n    <tr>\n      <th>3</th>\n      <td>4</td>\n      <td>1</td>\n      <td>1</td>\n      <td>C123C123C123</td>\n      <td>1</td>\n      <td>53.1000</td>\n      <td>C123</td>\n      <td>C123</td>\n      <td>C123</td>\n      <td>C123</td>\n      <td>...</td>\n      <td>C123</td>\n      <td>C123</td>\n      <td>C123</td>\n      <td>C123</td>\n      <td>C123</td>\n      <td>C123</td>\n      <td>C123</td>\n      <td>C123</td>\n      <td>C123</td>\n      <td>C123</td>\n    </tr>\n    <tr>\n      <th>4</th>\n      <td>5</td>\n      <td>0</td>\n      <td>3</td>\n      <td>0</td>\n      <td>0</td>\n      <td>8.0500</td>\n      <td>NaN</td>\n      <td>NaN</td>\n      <td>NaN</td>\n      <td>NaN</td>\n      <td>...</td>\n      <td>NaN</td>\n      <td>NaN</td>\n      <td>NaN</td>\n      <td>NaN</td>\n      <td>NaN</td>\n      <td>NaN</td>\n      <td>NaN</td>\n      <td>NaN</td>\n      <td>NaN</td>\n      <td>NaN</td>\n    </tr>\n    <tr>\n      <th>...</th>\n      <td>...</td>\n      <td>...</td>\n      <td>...</td>\n      <td>...</td>\n      <td>...</td>\n      <td>...</td>\n      <td>...</td>\n      <td>...</td>\n      <td>...</td>\n      <td>...</td>\n      <td>...</td>\n      <td>...</td>\n      <td>...</td>\n      <td>...</td>\n      <td>...</td>\n      <td>...</td>\n      <td>...</td>\n      <td>...</td>\n      <td>...</td>\n      <td>...</td>\n      <td>...</td>\n    </tr>\n    <tr>\n      <th>886</th>\n      <td>887</td>\n      <td>0</td>\n      <td>2</td>\n      <td>0</td>\n      <td>0</td>\n      <td>13.0000</td>\n      <td>NaN</td>\n      <td>NaN</td>\n      <td>NaN</td>\n      <td>NaN</td>\n      <td>...</td>\n      <td>NaN</td>\n      <td>NaN</td>\n      <td>NaN</td>\n      <td>NaN</td>\n      <td>NaN</td>\n      <td>NaN</td>\n      <td>NaN</td>\n      <td>NaN</td>\n      <td>NaN</td>\n      <td>NaN</td>\n    </tr>\n    <tr>\n      <th>887</th>\n      <td>888</td>\n      <td>1</td>\n      <td>1</td>\n      <td>B42B42B42</td>\n      <td>0</td>\n      <td>30.0000</td>\n      <td>B42</td>\n      <td>B42</td>\n      <td>B42</td>\n      <td>B42</td>\n      <td>...</td>\n      <td>B42</td>\n      <td>B42</td>\n      <td>B42</td>\n      <td>B42</td>\n      <td>B42</td>\n      <td>B42</td>\n      <td>B42</td>\n      <td>B42</td>\n      <td>B42</td>\n      <td>B42</td>\n    </tr>\n    <tr>\n      <th>888</th>\n      <td>889</td>\n      <td>0</td>\n      <td>3</td>\n      <td>0</td>\n      <td>1</td>\n      <td>23.4500</td>\n      <td>NaN</td>\n      <td>NaN</td>\n      <td>NaN</td>\n      <td>NaN</td>\n      <td>...</td>\n      <td>NaN</td>\n      <td>NaN</td>\n      <td>NaN</td>\n      <td>NaN</td>\n      <td>NaN</td>\n      <td>NaN</td>\n      <td>NaN</td>\n      <td>NaN</td>\n      <td>NaN</td>\n      <td>NaN</td>\n    </tr>\n    <tr>\n      <th>889</th>\n      <td>890</td>\n      <td>1</td>\n      <td>1</td>\n      <td>C148C148C148</td>\n      <td>0</td>\n      <td>30.0000</td>\n      <td>C148</td>\n      <td>C148</td>\n      <td>C148</td>\n      <td>C148</td>\n      <td>...</td>\n      <td>C148</td>\n      <td>C148</td>\n      <td>C148</td>\n      <td>C148</td>\n      <td>C148</td>\n      <td>C148</td>\n      <td>C148</td>\n      <td>C148</td>\n      <td>C148</td>\n      <td>C148</td>\n    </tr>\n    <tr>\n      <th>890</th>\n      <td>891</td>\n      <td>0</td>\n      <td>3</td>\n      <td>0</td>\n      <td>0</td>\n      <td>7.7500</td>\n      <td>NaN</td>\n      <td>NaN</td>\n      <td>NaN</td>\n      <td>NaN</td>\n      <td>...</td>\n      <td>NaN</td>\n      <td>NaN</td>\n      <td>NaN</td>\n      <td>NaN</td>\n      <td>NaN</td>\n      <td>NaN</td>\n      <td>NaN</td>\n      <td>NaN</td>\n      <td>NaN</td>\n      <td>NaN</td>\n    </tr>\n  </tbody>\n</table>\n<p>891 rows × 102 columns</p>\n</div>"
          },
          "metadata": {}
        }
      ]
    },
    {
      "cell_type": "code",
      "source": "#df.to_csv('modified.csv', index = False)\n\n#df.to_excel('modified1.xlsx',  index= False)\n\ndf.to_csv('modified.txt', index = False, sep = '\\t')",
      "metadata": {
        "trusted": true
      },
      "execution_count": 125,
      "outputs": []
    },
    {
      "cell_type": "code",
      "source": "new_df = df.loc[(df['Sex'] == 'male') & (df['Parch'] == 0) & (df['Age'] > 27) ]\n\n#new_df.to_csv('Filtered.csv')\n\n#new_df = new_df.reset_index( drop = True)\n\nnew_df.reset_index( drop = True, inplace = True)\n\nnew_df\n",
      "metadata": {
        "trusted": true
      },
      "execution_count": 140,
      "outputs": [
        {
          "execution_count": 140,
          "output_type": "execute_result",
          "data": {
            "text/plain": "     PassengerId  Survived  Pclass  Total   Sex   Age  SibSp  Parch  \\\n0              5         0       3   35.0  male  35.0      0      0   \n1              7         0       1   54.0  male  54.0      0      0   \n2             21         0       2   35.0  male  35.0      0      0   \n3             22         1       2   34.0  male  34.0      0      0   \n4             24         1       1   28.0  male  28.0      0      0   \n..           ...       ...     ...    ...   ...   ...    ...    ...   \n214          873         0       1   33.0  male  33.0      0      0   \n215          874         0       3   47.0  male  47.0      0      0   \n216          882         0       3   33.0  male  33.0      0      0   \n217          884         0       2   28.0  male  28.0      0      0   \n218          891         0       3   32.0  male  32.0      0      0   \n\n               Ticket     Fare        Cabin  \n0              373450   8.0500          NaN  \n1               17463  51.8625          E46  \n2              239865  26.0000          NaN  \n3              248698  13.0000          D56  \n4              113788  35.5000           A6  \n..                ...      ...          ...  \n214               695   5.0000  B51 B53 B55  \n215            345765   9.0000          NaN  \n216            349257   7.8958          NaN  \n217  C.A./SOTON 34068  10.5000          NaN  \n218            370376   7.7500          NaN  \n\n[219 rows x 11 columns]",
            "text/html": "<div>\n<style scoped>\n    .dataframe tbody tr th:only-of-type {\n        vertical-align: middle;\n    }\n\n    .dataframe tbody tr th {\n        vertical-align: top;\n    }\n\n    .dataframe thead th {\n        text-align: right;\n    }\n</style>\n<table border=\"1\" class=\"dataframe\">\n  <thead>\n    <tr style=\"text-align: right;\">\n      <th></th>\n      <th>PassengerId</th>\n      <th>Survived</th>\n      <th>Pclass</th>\n      <th>Total</th>\n      <th>Sex</th>\n      <th>Age</th>\n      <th>SibSp</th>\n      <th>Parch</th>\n      <th>Ticket</th>\n      <th>Fare</th>\n      <th>Cabin</th>\n    </tr>\n  </thead>\n  <tbody>\n    <tr>\n      <th>0</th>\n      <td>5</td>\n      <td>0</td>\n      <td>3</td>\n      <td>35.0</td>\n      <td>male</td>\n      <td>35.0</td>\n      <td>0</td>\n      <td>0</td>\n      <td>373450</td>\n      <td>8.0500</td>\n      <td>NaN</td>\n    </tr>\n    <tr>\n      <th>1</th>\n      <td>7</td>\n      <td>0</td>\n      <td>1</td>\n      <td>54.0</td>\n      <td>male</td>\n      <td>54.0</td>\n      <td>0</td>\n      <td>0</td>\n      <td>17463</td>\n      <td>51.8625</td>\n      <td>E46</td>\n    </tr>\n    <tr>\n      <th>2</th>\n      <td>21</td>\n      <td>0</td>\n      <td>2</td>\n      <td>35.0</td>\n      <td>male</td>\n      <td>35.0</td>\n      <td>0</td>\n      <td>0</td>\n      <td>239865</td>\n      <td>26.0000</td>\n      <td>NaN</td>\n    </tr>\n    <tr>\n      <th>3</th>\n      <td>22</td>\n      <td>1</td>\n      <td>2</td>\n      <td>34.0</td>\n      <td>male</td>\n      <td>34.0</td>\n      <td>0</td>\n      <td>0</td>\n      <td>248698</td>\n      <td>13.0000</td>\n      <td>D56</td>\n    </tr>\n    <tr>\n      <th>4</th>\n      <td>24</td>\n      <td>1</td>\n      <td>1</td>\n      <td>28.0</td>\n      <td>male</td>\n      <td>28.0</td>\n      <td>0</td>\n      <td>0</td>\n      <td>113788</td>\n      <td>35.5000</td>\n      <td>A6</td>\n    </tr>\n    <tr>\n      <th>...</th>\n      <td>...</td>\n      <td>...</td>\n      <td>...</td>\n      <td>...</td>\n      <td>...</td>\n      <td>...</td>\n      <td>...</td>\n      <td>...</td>\n      <td>...</td>\n      <td>...</td>\n      <td>...</td>\n    </tr>\n    <tr>\n      <th>214</th>\n      <td>873</td>\n      <td>0</td>\n      <td>1</td>\n      <td>33.0</td>\n      <td>male</td>\n      <td>33.0</td>\n      <td>0</td>\n      <td>0</td>\n      <td>695</td>\n      <td>5.0000</td>\n      <td>B51 B53 B55</td>\n    </tr>\n    <tr>\n      <th>215</th>\n      <td>874</td>\n      <td>0</td>\n      <td>3</td>\n      <td>47.0</td>\n      <td>male</td>\n      <td>47.0</td>\n      <td>0</td>\n      <td>0</td>\n      <td>345765</td>\n      <td>9.0000</td>\n      <td>NaN</td>\n    </tr>\n    <tr>\n      <th>216</th>\n      <td>882</td>\n      <td>0</td>\n      <td>3</td>\n      <td>33.0</td>\n      <td>male</td>\n      <td>33.0</td>\n      <td>0</td>\n      <td>0</td>\n      <td>349257</td>\n      <td>7.8958</td>\n      <td>NaN</td>\n    </tr>\n    <tr>\n      <th>217</th>\n      <td>884</td>\n      <td>0</td>\n      <td>2</td>\n      <td>28.0</td>\n      <td>male</td>\n      <td>28.0</td>\n      <td>0</td>\n      <td>0</td>\n      <td>C.A./SOTON 34068</td>\n      <td>10.5000</td>\n      <td>NaN</td>\n    </tr>\n    <tr>\n      <th>218</th>\n      <td>891</td>\n      <td>0</td>\n      <td>3</td>\n      <td>32.0</td>\n      <td>male</td>\n      <td>32.0</td>\n      <td>0</td>\n      <td>0</td>\n      <td>370376</td>\n      <td>7.7500</td>\n      <td>NaN</td>\n    </tr>\n  </tbody>\n</table>\n<p>219 rows × 11 columns</p>\n</div>"
          },
          "metadata": {}
        }
      ]
    },
    {
      "cell_type": "code",
      "source": "df.loc[df['Name'].str.contains('de')]\n\n",
      "metadata": {
        "trusted": true
      },
      "execution_count": 141,
      "outputs": [
        {
          "ename": "<class 'KeyError'>",
          "evalue": "'Name'",
          "traceback": [
            "\u001b[0;31m---------------------------------------------------------------------------\u001b[0m",
            "\u001b[0;31mKeyError\u001b[0m                                  Traceback (most recent call last)",
            "File \u001b[0;32m/lib/python3.10/site-packages/pandas/core/indexes/base.py:3621\u001b[0m, in \u001b[0;36mIndex.get_loc\u001b[0;34m(self, key, method, tolerance)\u001b[0m\n\u001b[1;32m   3620\u001b[0m \u001b[38;5;28;01mtry\u001b[39;00m:\n\u001b[0;32m-> 3621\u001b[0m     \u001b[38;5;28;01mreturn\u001b[39;00m \u001b[38;5;28;43mself\u001b[39;49m\u001b[38;5;241;43m.\u001b[39;49m\u001b[43m_engine\u001b[49m\u001b[38;5;241;43m.\u001b[39;49m\u001b[43mget_loc\u001b[49m\u001b[43m(\u001b[49m\u001b[43mcasted_key\u001b[49m\u001b[43m)\u001b[49m\n\u001b[1;32m   3622\u001b[0m \u001b[38;5;28;01mexcept\u001b[39;00m \u001b[38;5;167;01mKeyError\u001b[39;00m \u001b[38;5;28;01mas\u001b[39;00m err:\n",
            "File \u001b[0;32m/lib/python3.10/site-packages/pandas/_libs/index.pyx:136\u001b[0m, in \u001b[0;36mpandas._libs.index.IndexEngine.get_loc\u001b[0;34m()\u001b[0m\n",
            "File \u001b[0;32m/lib/python3.10/site-packages/pandas/_libs/index.pyx:163\u001b[0m, in \u001b[0;36mpandas._libs.index.IndexEngine.get_loc\u001b[0;34m()\u001b[0m\n",
            "File \u001b[0;32mpandas/_libs/hashtable_class_helper.pxi:5198\u001b[0m, in \u001b[0;36mpandas._libs.hashtable.PyObjectHashTable.get_item\u001b[0;34m()\u001b[0m\n",
            "File \u001b[0;32mpandas/_libs/hashtable_class_helper.pxi:5206\u001b[0m, in \u001b[0;36mpandas._libs.hashtable.PyObjectHashTable.get_item\u001b[0;34m()\u001b[0m\n",
            "\u001b[0;31mKeyError\u001b[0m: 'Name'",
            "\nThe above exception was the direct cause of the following exception:\n",
            "\u001b[0;31mKeyError\u001b[0m                                  Traceback (most recent call last)",
            "Input \u001b[0;32mIn [141]\u001b[0m, in \u001b[0;36m<cell line: 1>\u001b[0;34m()\u001b[0m\n\u001b[0;32m----> 1\u001b[0m df\u001b[38;5;241m.\u001b[39mloc[\u001b[43mdf\u001b[49m\u001b[43m[\u001b[49m\u001b[38;5;124;43m'\u001b[39;49m\u001b[38;5;124;43mName\u001b[39;49m\u001b[38;5;124;43m'\u001b[39;49m\u001b[43m]\u001b[49m\u001b[38;5;241m.\u001b[39mstr\u001b[38;5;241m.\u001b[39mcontains(\u001b[38;5;124m'\u001b[39m\u001b[38;5;124mde\u001b[39m\u001b[38;5;124m'\u001b[39m)]\n",
            "File \u001b[0;32m/lib/python3.10/site-packages/pandas/core/frame.py:3505\u001b[0m, in \u001b[0;36mDataFrame.__getitem__\u001b[0;34m(self, key)\u001b[0m\n\u001b[1;32m   3503\u001b[0m \u001b[38;5;28;01mif\u001b[39;00m \u001b[38;5;28mself\u001b[39m\u001b[38;5;241m.\u001b[39mcolumns\u001b[38;5;241m.\u001b[39mnlevels \u001b[38;5;241m>\u001b[39m \u001b[38;5;241m1\u001b[39m:\n\u001b[1;32m   3504\u001b[0m     \u001b[38;5;28;01mreturn\u001b[39;00m \u001b[38;5;28mself\u001b[39m\u001b[38;5;241m.\u001b[39m_getitem_multilevel(key)\n\u001b[0;32m-> 3505\u001b[0m indexer \u001b[38;5;241m=\u001b[39m \u001b[38;5;28;43mself\u001b[39;49m\u001b[38;5;241;43m.\u001b[39;49m\u001b[43mcolumns\u001b[49m\u001b[38;5;241;43m.\u001b[39;49m\u001b[43mget_loc\u001b[49m\u001b[43m(\u001b[49m\u001b[43mkey\u001b[49m\u001b[43m)\u001b[49m\n\u001b[1;32m   3506\u001b[0m \u001b[38;5;28;01mif\u001b[39;00m is_integer(indexer):\n\u001b[1;32m   3507\u001b[0m     indexer \u001b[38;5;241m=\u001b[39m [indexer]\n",
            "File \u001b[0;32m/lib/python3.10/site-packages/pandas/core/indexes/base.py:3623\u001b[0m, in \u001b[0;36mIndex.get_loc\u001b[0;34m(self, key, method, tolerance)\u001b[0m\n\u001b[1;32m   3621\u001b[0m     \u001b[38;5;28;01mreturn\u001b[39;00m \u001b[38;5;28mself\u001b[39m\u001b[38;5;241m.\u001b[39m_engine\u001b[38;5;241m.\u001b[39mget_loc(casted_key)\n\u001b[1;32m   3622\u001b[0m \u001b[38;5;28;01mexcept\u001b[39;00m \u001b[38;5;167;01mKeyError\u001b[39;00m \u001b[38;5;28;01mas\u001b[39;00m err:\n\u001b[0;32m-> 3623\u001b[0m     \u001b[38;5;28;01mraise\u001b[39;00m \u001b[38;5;167;01mKeyError\u001b[39;00m(key) \u001b[38;5;28;01mfrom\u001b[39;00m \u001b[38;5;21;01merr\u001b[39;00m\n\u001b[1;32m   3624\u001b[0m \u001b[38;5;28;01mexcept\u001b[39;00m \u001b[38;5;167;01mTypeError\u001b[39;00m:\n\u001b[1;32m   3625\u001b[0m     \u001b[38;5;66;03m# If we have a listlike key, _check_indexing_error will raise\u001b[39;00m\n\u001b[1;32m   3626\u001b[0m     \u001b[38;5;66;03m#  InvalidIndexError. Otherwise we fall through and re-raise\u001b[39;00m\n\u001b[1;32m   3627\u001b[0m     \u001b[38;5;66;03m#  the TypeError.\u001b[39;00m\n\u001b[1;32m   3628\u001b[0m     \u001b[38;5;28mself\u001b[39m\u001b[38;5;241m.\u001b[39m_check_indexing_error(key)\n",
            "\u001b[0;31mKeyError\u001b[0m: 'Name'"
          ],
          "output_type": "error"
        }
      ]
    },
    {
      "cell_type": "code",
      "source": "#working on large dataset\n\nnew_df = pd.DataFrame(columns=df.columns)\n\nfor df in pd.read_csv('file.csv', chunksize=10):\n    results = df.groupby(['Type 1']).count()\n    \n    new_df = pd.concat([new_df, results])",
      "metadata": {},
      "execution_count": null,
      "outputs": []
    }
  ]
}